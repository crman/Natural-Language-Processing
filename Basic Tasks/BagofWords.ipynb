{
 "cells": [
  {
   "cell_type": "code",
   "execution_count": 1,
   "metadata": {},
   "outputs": [],
   "source": [
    "#importing Natural Language Toolkit Library\n",
    "import nltk"
   ]
  },
  {
   "cell_type": "code",
   "execution_count": 2,
   "metadata": {},
   "outputs": [],
   "source": [
    "#importing regular expression module\n",
    "import re"
   ]
  },
  {
   "cell_type": "code",
   "execution_count": 3,
   "metadata": {},
   "outputs": [],
   "source": [
    "#paragraph on which we will apply Bag of Word technique\n",
    "para = '''It people interest me what you do for a living. I want to know what you ache for, and if you dare to dream of meeting your heart’s longing.\n",
    "          It doesn’t interest me how old you are. I want to know if you will risk looking like a fool for love, for your dream, for the adventure of being alive.\n",
    "          It doesn’t interest me what planets are squaring your moon. I want to know if you have touched the center of your own sorrow, if you have been opened by life’s betrayals or have become shriveled and closed from fear of further pain!I want to know if you can sit with pain, mine or your own, without moving to hide it or fade it, or fix it.\n",
    "          I want to know if you can be with joy, mine or your own, if you can dance with wildness and let the ecstasy fill you to the tips of your fingers and toes without cautioning us to be careful, to be realistic, to remember the limitations of being human.\n",
    "          It doesn’t interest me if the story you are telling me is true. I want to know if you can disappoint another to be true to yourself; if you can bear the accusation of betrayal and not betray your own soul; if you can be faithless and therefore trustworthy.\n",
    "          I want to know if you can see beauty even when it’s not pretty, every day,and if you can source your own life from its presence.\n",
    "          I want to know if you can live with failure, yours and mine, and still stand on the edge of the lake and shout to the silver of the full moon, “Yes!”\n",
    "          It doesn’t interest me to know where you live or how much money you have. I want to know if you can get up, after the night of grief and despair, weary and bruised to the bone, and do what needs to be done to feed the children.\n",
    "          It doesn’t interest me who you know or how you came to be here. I want to know if you will stand in the center of the fire with me and not shrink back.\n",
    "          It doesn’t interest me where or what or with whom you have studied. I want to know what sustains you, from the inside, when all else falls away.\n",
    "          I want to know if you can be alone with yourself and if you truly like the company you keep in the empty moments.'''"
   ]
  },
  {
   "cell_type": "code",
   "execution_count": 4,
   "metadata": {},
   "outputs": [],
   "source": [
    "#importing required libraries for performing the task\n",
    "from nltk.corpus import stopwords\n",
    "from nltk.stem.porter import PorterStemmer\n",
    "from nltk.stem import WordNetLemmatizer"
   ]
  },
  {
   "cell_type": "code",
   "execution_count": 5,
   "metadata": {},
   "outputs": [],
   "source": [
    "ps = PorterStemmer()                 #Porter Stemmer for stemming purpose\n",
    "wordNet = WordNetLemmatizer()        #for lemmatizing the sentences\n",
    "sentences = nltk.sent_tokenize(para)\n",
    "corpus = []"
   ]
  },
  {
   "cell_type": "code",
   "execution_count": 6,
   "metadata": {},
   "outputs": [],
   "source": [
    "#converting original paragraph into lemmatized paragraph\n",
    "for i in range(len(sentences)):\n",
    "    temp = re.sub('[^a-zA-Z]', ' ', sentences[i])\n",
    "    temp = temp.lower()\n",
    "    temp = temp.split()\n",
    "    temp = [wordNet.lemmatize(word) for word in temp if not word in set(stopwords.words('english'))]\n",
    "    temp = ' '.join(temp)\n",
    "    corpus.append(temp)"
   ]
  },
  {
   "cell_type": "code",
   "execution_count": 7,
   "metadata": {},
   "outputs": [
    {
     "name": "stdout",
     "output_type": "stream",
     "text": [
      "['people interest living', 'want know ache dare dream meeting heart longing', 'interest old', 'want know risk looking like fool love dream adventure alive', 'interest planet squaring moon', 'want know touched center sorrow opened life betrayal become shriveled closed fear pain want know sit pain mine without moving hide fade fix', 'want know joy mine dance wildness let ecstasy fill tip finger toe without cautioning u careful realistic remember limitation human', 'interest story telling true', 'want know disappoint another true bear accusation betrayal betray soul faithless therefore trustworthy', 'want know see beauty even pretty every day source life presence', 'want know live failure mine still stand edge lake shout silver full moon yes interest know live much money', 'want know get night grief despair weary bruised bone need done feed child', 'interest know came', 'want know stand center fire shrink back', 'interest studied', 'want know sustains inside else fall away', 'want know alone truly like company keep empty moment']\n"
     ]
    }
   ],
   "source": [
    "print(corpus)"
   ]
  },
  {
   "cell_type": "code",
   "execution_count": 9,
   "metadata": {},
   "outputs": [],
   "source": [
    "#Creating Bag of Word using scikit-learn\n",
    "from sklearn.feature_extraction.text import CountVectorizer\n",
    "cv = CountVectorizer()\n",
    "X = cv.fit_transform(corpus).toarray()"
   ]
  },
  {
   "cell_type": "code",
   "execution_count": 10,
   "metadata": {},
   "outputs": [
    {
     "name": "stdout",
     "output_type": "stream",
     "text": [
      "[[0 0 0 ... 0 0 0]\n",
      " [0 1 0 ... 0 0 0]\n",
      " [0 0 0 ... 0 0 0]\n",
      " ...\n",
      " [0 0 0 ... 0 0 0]\n",
      " [0 0 0 ... 0 0 0]\n",
      " [0 0 0 ... 0 0 0]]\n"
     ]
    }
   ],
   "source": [
    "print(X)"
   ]
  },
  {
   "cell_type": "code",
   "execution_count": 11,
   "metadata": {},
   "outputs": [
    {
     "data": {
      "text/plain": [
       "(17, 114)"
      ]
     },
     "execution_count": 11,
     "metadata": {},
     "output_type": "execute_result"
    }
   ],
   "source": [
    "X.shape"
   ]
  },
  {
   "cell_type": "code",
   "execution_count": 12,
   "metadata": {},
   "outputs": [
    {
     "data": {
      "text/plain": [
       "array([[0, 0, 0, ..., 0, 1, 0],\n",
       "       [0, 0, 0, ..., 1, 1, 0],\n",
       "       [0, 0, 0, ..., 0, 0, 0],\n",
       "       ...,\n",
       "       [0, 0, 0, ..., 0, 0, 0],\n",
       "       [0, 0, 0, ..., 0, 0, 0],\n",
       "       [0, 0, 0, ..., 0, 0, 0]], dtype=int64)"
      ]
     },
     "execution_count": 12,
     "metadata": {},
     "output_type": "execute_result"
    }
   ],
   "source": [
    "#printing final bag of word\n",
    "X[5:]"
   ]
  }
 ],
 "metadata": {
  "kernelspec": {
   "display_name": "Python 3.7.4 64-bit",
   "language": "python",
   "name": "python37464bita1ca0c21503f4c25b419826fa281fbee"
  },
  "language_info": {
   "codemirror_mode": {
    "name": "ipython",
    "version": 3
   },
   "file_extension": ".py",
   "mimetype": "text/x-python",
   "name": "python",
   "nbconvert_exporter": "python",
   "pygments_lexer": "ipython3",
   "version": "3.7.4"
  }
 },
 "nbformat": 4,
 "nbformat_minor": 2
}
