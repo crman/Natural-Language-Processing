{
 "cells": [
  {
   "cell_type": "code",
   "execution_count": 1,
   "metadata": {},
   "outputs": [],
   "source": [
    "#importing libraries\n",
    "import nltk\n",
    "from nltk.stem import PorterStemmer\n",
    "from nltk.corpus import stopwords     #for removing words like of, from, for, them, then etc..."
   ]
  },
  {
   "cell_type": "code",
   "execution_count": 2,
   "metadata": {},
   "outputs": [],
   "source": [
    "#paragraph for the processing\n",
    "para = '''It people interest me what you do for a living. I want to know what you ache for, and if you dare to dream of meeting your heart’s longing.\n",
    "          It doesn’t interest me how old you are. I want to know if you will risk looking like a fool for love, for your dream, for the adventure of being alive.\n",
    "          It doesn’t interest me what planets are squaring your moon. I want to know if you have touched the center of your own sorrow, if you have been opened by life’s betrayals or have become shriveled and closed from fear of further pain!I want to know if you can sit with pain, mine or your own, without moving to hide it or fade it, or fix it.\n",
    "          I want to know if you can be with joy, mine or your own, if you can dance with wildness and let the ecstasy fill you to the tips of your fingers and toes without cautioning us to be careful, to be realistic, to remember the limitations of being human.\n",
    "          It doesn’t interest me if the story you are telling me is true. I want to know if you can disappoint another to be true to yourself; if you can bear the accusation of betrayal and not betray your own soul; if you can be faithless and therefore trustworthy.\n",
    "          I want to know if you can see beauty even when it’s not pretty, every day,and if you can source your own life from its presence.\n",
    "          I want to know if you can live with failure, yours and mine, and still stand on the edge of the lake and shout to the silver of the full moon, “Yes!”\n",
    "          It doesn’t interest me to know where you live or how much money you have. I want to know if you can get up, after the night of grief and despair, weary and bruised to the bone, and do what needs to be done to feed the children.\n",
    "          It doesn’t interest me who you know or how you came to be here. I want to know if you will stand in the center of the fire with me and not shrink back.\n",
    "          It doesn’t interest me where or what or with whom you have studied. I want to know what sustains you, from the inside, when all else falls away.\n",
    "          I want to know if you can be alone with yourself and if you truly like the company you keep in the empty moments.'''"
   ]
  },
  {
   "cell_type": "code",
   "execution_count": 3,
   "metadata": {},
   "outputs": [
    {
     "data": {
      "text/plain": [
       "17"
      ]
     },
     "execution_count": 3,
     "metadata": {},
     "output_type": "execute_result"
    }
   ],
   "source": [
    "#Converts paragraph into sentences\n",
    "sentences = nltk.sent_tokenize(para)\n",
    "len(sentences)"
   ]
  },
  {
   "cell_type": "code",
   "execution_count": 4,
   "metadata": {},
   "outputs": [],
   "source": [
    "stemmer = PorterStemmer()"
   ]
  },
  {
   "cell_type": "code",
   "execution_count": 5,
   "metadata": {},
   "outputs": [],
   "source": [
    "#Stemming...\n",
    "for i in range(len(sentences)):\n",
    "    words = nltk.word_tokenize(sentences[i])\n",
    "    words = [stemmer.stem(word) for word in words if word not in set(stopwords.words('english'))]\n",
    "    sentences[i] = ' '.join(words)"
   ]
  },
  {
   "cell_type": "code",
   "execution_count": 6,
   "metadata": {},
   "outputs": [
    {
     "data": {
      "text/plain": [
       "['It peopl interest live .',\n",
       " 'I want know ach , dare dream meet heart ’ long .',\n",
       " 'It ’ interest old .',\n",
       " 'I want know risk look like fool love , dream , adventur aliv .',\n",
       " 'It ’ interest planet squar moon .',\n",
       " 'I want know touch center sorrow , open life ’ betray becom shrivel close fear pain ! I want know sit pain , mine , without move hide fade , fix .',\n",
       " 'I want know joy , mine , danc wild let ecstasi fill tip finger toe without caution us care , realist , rememb limit human .',\n",
       " 'It ’ interest stori tell true .',\n",
       " 'I want know disappoint anoth true ; bear accus betray betray soul ; faithless therefor trustworthi .',\n",
       " 'I want know see beauti even ’ pretti , everi day , sourc life presenc .',\n",
       " 'I want know live failur , mine , still stand edg lake shout silver full moon , “ ye ! ” It ’ interest know live much money .',\n",
       " 'I want know get , night grief despair , weari bruis bone , need done feed children .',\n",
       " 'It ’ interest know came .',\n",
       " 'I want know stand center fire shrink back .',\n",
       " 'It ’ interest studi .',\n",
       " 'I want know sustain , insid , els fall away .',\n",
       " 'I want know alon truli like compani keep empti moment .']"
      ]
     },
     "execution_count": 6,
     "metadata": {},
     "output_type": "execute_result"
    }
   ],
   "source": [
    "sentences"
   ]
  },
  {
   "cell_type": "code",
   "execution_count": 7,
   "metadata": {},
   "outputs": [],
   "source": [
    "#Lemmatization...\n",
    "from nltk.stem import WordNetLemmatizer"
   ]
  },
  {
   "cell_type": "code",
   "execution_count": 8,
   "metadata": {},
   "outputs": [],
   "source": [
    "lemmatizer = WordNetLemmatizer()"
   ]
  },
  {
   "cell_type": "code",
   "execution_count": 9,
   "metadata": {},
   "outputs": [],
   "source": [
    "#Lemmatizing...\n",
    "for i in range(len(sentences)):\n",
    "    words = nltk.word_tokenize(sentences[i])\n",
    "    words = [lemmatizer.lemmatize(word) for word in words if word not in set(stopwords.words('english'))]\n",
    "    sentences[i] = ' '.join(words)"
   ]
  },
  {
   "cell_type": "code",
   "execution_count": 10,
   "metadata": {},
   "outputs": [
    {
     "data": {
      "text/plain": [
       "['It peopl interest live .',\n",
       " 'I want know ach , dare dream meet heart ’ long .',\n",
       " 'It ’ interest old .',\n",
       " 'I want know risk look like fool love , dream , adventur aliv .',\n",
       " 'It ’ interest planet squar moon .',\n",
       " 'I want know touch center sorrow , open life ’ betray becom shrivel close fear pain ! I want know sit pain , mine , without move hide fade , fix .',\n",
       " 'I want know joy , mine , danc wild let ecstasi fill tip finger toe without caution u care , realist , rememb limit human .',\n",
       " 'It ’ interest stori tell true .',\n",
       " 'I want know disappoint anoth true ; bear accus betray betray soul ; faithless therefor trustworthi .',\n",
       " 'I want know see beauti even ’ pretti , everi day , sourc life presenc .',\n",
       " 'I want know live failur , mine , still stand edg lake shout silver full moon , “ ye ! ” It ’ interest know live much money .',\n",
       " 'I want know get , night grief despair , weari bruis bone , need done feed child .',\n",
       " 'It ’ interest know came .',\n",
       " 'I want know stand center fire shrink back .',\n",
       " 'It ’ interest studi .',\n",
       " 'I want know sustain , insid , el fall away .',\n",
       " 'I want know alon truli like compani keep empti moment .']"
      ]
     },
     "execution_count": 10,
     "metadata": {},
     "output_type": "execute_result"
    }
   ],
   "source": [
    "sentences"
   ]
  },
  {
   "cell_type": "code",
   "execution_count": 11,
   "metadata": {},
   "outputs": [
    {
     "name": "stdout",
     "output_type": "stream",
     "text": [
      "['It peopl interest live .', 'I want know ach , dare dream meet heart ’ long .', 'It ’ interest old .', 'I want know risk look like fool love , dream , adventur aliv .', 'It ’ interest planet squar moon .', 'I want know touch center sorrow , open life ’ betray becom shrivel close fear pain ! I want know sit pain , mine , without move hide fade , fix .', 'I want know joy , mine , danc wild let ecstasi fill tip finger toe without caution u care , realist , rememb limit human .', 'It ’ interest stori tell true .', 'I want know disappoint anoth true ; bear accus betray betray soul ; faithless therefor trustworthi .', 'I want know see beauti even ’ pretti , everi day , sourc life presenc .', 'I want know live failur , mine , still stand edg lake shout silver full moon , “ ye ! ” It ’ interest know live much money .', 'I want know get , night grief despair , weari bruis bone , need done feed child .', 'It ’ interest know came .', 'I want know stand center fire shrink back .', 'It ’ interest studi .', 'I want know sustain , insid , el fall away .', 'I want know alon truli like compani keep empti moment .']\n"
     ]
    }
   ],
   "source": [
    "print(sentences)"
   ]
  }
 ],
 "metadata": {
  "kernelspec": {
   "display_name": "Python 3.7.4 64-bit",
   "language": "python",
   "name": "python37464bita1ca0c21503f4c25b419826fa281fbee"
  },
  "language_info": {
   "codemirror_mode": {
    "name": "ipython",
    "version": 3
   },
   "file_extension": ".py",
   "mimetype": "text/x-python",
   "name": "python",
   "nbconvert_exporter": "python",
   "pygments_lexer": "ipython3",
   "version": "3.7.4"
  }
 },
 "nbformat": 4,
 "nbformat_minor": 2
}
